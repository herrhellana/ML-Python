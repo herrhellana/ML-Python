{
 "cells": [
  {
   "cell_type": "markdown",
   "metadata": {},
   "source": [
    "# Майнор Интеллектуальный анализ данных / Введение в анализ данных\n",
    "\n",
    "## Домашнее задание 3. Логистическая регрессия и случайный лес.\n",
    "\n",
    "В этом задании вам предстоит:\n",
    "- поработать с логистической регрессией (полная реализация не потребуется, однако можно заработать бонусные баллы)\n",
    "- воспроизвести подход случайного леса через одно решающее дерево, поэкспериментировать со случайным лесом.\n",
    "\n",
    "На все вопросы требуется отвечать развёрнуто, аппелируя к полученным значениям или графикам, ответы вписывать в отдельную ячейку, выбрав для неё тип \"Markdown\". От полноты и качества ответов будет во многом зависеть ваша итоговая оценка.\n",
    "\n",
    "Задание выполняется самостоятельно, плагиат будет стандартно наказываться лишением всех баллов за задание.\n",
    "- Максимальная оценка за задание: 10 баллов.\n",
    "- Дата выдачи: 28.04.2018\n",
    "- Срок сдачи: 23:59 18.05.2018"
   ]
  },
  {
   "cell_type": "code",
   "execution_count": 1,
   "metadata": {
    "scrolled": false
   },
   "outputs": [
    {
     "name": "stdout",
     "output_type": "stream",
     "text": [
      "Populating the interactive namespace from numpy and matplotlib\n"
     ]
    }
   ],
   "source": [
    "%pylab inline\n",
    "import pandas as pd"
   ]
  },
  {
   "cell_type": "markdown",
   "metadata": {},
   "source": [
    "## Часть 0. Подготовка данных."
   ]
  },
  {
   "cell_type": "markdown",
   "metadata": {},
   "source": [
    "Для наших экспериентов возьмём обучающую выборку [отсюда](https://www.kaggle.com/iabhishekofficial/mobile-price-classification)."
   ]
  },
  {
   "cell_type": "code",
   "execution_count": 2,
   "metadata": {
    "collapsed": true
   },
   "outputs": [],
   "source": [
    "train = pd.read_csv('mobile_train.csv')"
   ]
  },
  {
   "cell_type": "markdown",
   "metadata": {},
   "source": [
    "Решается задача многоклассовой классификации — определение ценовой категории телефона. Для простоты перейдём к задаче бинарной классификации — пусть исходные классы 0 и 1 соответствуют классу 0 новой целевой переменной, а остальные классу 1.\n",
    "\n",
    "Замените целевую переменную, отделите её в отдельную переменную и удалите из исходной выборки."
   ]
  },
  {
   "cell_type": "code",
   "execution_count": 3,
   "metadata": {
    "collapsed": true
   },
   "outputs": [],
   "source": [
    "### ╰( ͡° ͜ʖ ͡° )つ──☆*:・ﾟ\n",
    "# 0 if price_range <= 1, else 1\n",
    "\n",
    "price_range = [0 if x <= 1 else 1 for x in train.iloc[:, -1]]\n",
    "train.drop('price_range', axis = 1, inplace = True)"
   ]
  },
  {
   "cell_type": "markdown",
   "metadata": {},
   "source": [
    "Разделите выборку на обучающую и тестовую части в соотношении 7 к 3. Для этого можно использовать `train_test_split` из scikit-learn. Не забудьте зафиксировать сид для разбиения."
   ]
  },
  {
   "cell_type": "code",
   "execution_count": 4,
   "metadata": {
    "collapsed": true
   },
   "outputs": [],
   "source": [
    "### ╰( ͡° ͜ʖ ͡° )つ──☆*:・ﾟ\n",
    "from sklearn.model_selection import train_test_split\n",
    "import random\n",
    "random.seed(1234)\n",
    "\n",
    "X_train, X_test, y_train, y_test = train_test_split(train, price_range, train_size = 0.7)"
   ]
  },
  {
   "cell_type": "markdown",
   "metadata": {},
   "source": [
    "## Часть 1. Логистическая регрессия.\n",
    "\n",
    "[4 балла]"
   ]
  },
  {
   "cell_type": "markdown",
   "metadata": {},
   "source": [
    "В этой части вы будете обучать самый простой бинарный классификатор — логистическую регрессию. Будем использовать готовую реализацию `LogisticRegression` из scikit-learn.\n",
    "\n",
    "Логистическая регрессия — линейный метод, то есть в нём предсказание алгоритма вычислаяется как скалярное произведение признаков и весов алгоритма: \n",
    "\n",
    "$$\n",
    "b(x) = w_0 + \\langle w, x \\rangle = w_0 + \\sum_{i=1}^{d} w_i x_i\n",
    "$$\n",
    "\n",
    "Для вычисления вероятности положительного класса применяется сигмода. В результате предсказание вероятности принадлежности объекта к положительному классу можно записать как: \n",
    "\n",
    "$$\n",
    "P(y = +1 | x) = \\frac{1}{1 + \\exp(- w_0 - \\langle w, x \\rangle )}\n",
    "$$"
   ]
  },
  {
   "cell_type": "markdown",
   "metadata": {},
   "source": [
    "Не забывайте, что для линейных методов матрицу объекты-признаки необходимо предварительно нормировать (то есть привести каждый признак к одному и тому же масштабу одним из способов). Для этого можно воспользоваться `StandardScaler` или сделать это вручную."
   ]
  },
  {
   "cell_type": "code",
   "execution_count": 388,
   "metadata": {
    "collapsed": true
   },
   "outputs": [],
   "source": [
    "### ╰( ͡° ͜ʖ ͡° )つ──☆*:・ﾟ\n",
    "from sklearn.linear_model import LogisticRegression\n",
    "logisticRegr = LogisticRegression()\n",
    "\n",
    "from sklearn import preprocessing\n",
    "X_train, X_test = preprocessing.scale(X_train), preprocessing.scale(X_test)"
   ]
  },
  {
   "cell_type": "markdown",
   "metadata": {},
   "source": [
    "Обучите логистическую регрессию. Сделайте предсказания для тестовой части, посчитайте по ним ROC-AUC и Accuracy (порог 0.5). Хорошо ли удаётся предсказывать целевую переменную?\n",
    "\n",
    "Не забывайте, что метод `predict_proba` вычисляет вероятности обоих классов выборки, а в бинарной классификации нас интересует в первую очередь вероятность принадлежности к положительному классу."
   ]
  },
  {
   "cell_type": "code",
   "execution_count": 228,
   "metadata": {
    "collapsed": true
   },
   "outputs": [],
   "source": [
    "### ╰( ͡° ͜ʖ ͡° )つ──☆*:・ﾟ\n",
    "\n",
    "logisticRegr.fit(X_train, y_train) # fitting the model\n",
    "y_pred = logisticRegr.predict(X_test) # predict\n",
    "\n",
    "y_pred_1 = logisticRegr.predict_proba(X_test) # predict proba"
   ]
  },
  {
   "cell_type": "code",
   "execution_count": 111,
   "metadata": {},
   "outputs": [
    {
     "data": {
      "text/plain": [
       "0.97542788509658696"
      ]
     },
     "execution_count": 111,
     "metadata": {},
     "output_type": "execute_result"
    }
   ],
   "source": [
    "# ROC-AUC\n",
    "from sklearn.metrics import roc_auc_score, accuracy_score\n",
    "roc_auc_score(y_test, y_pred)"
   ]
  },
  {
   "cell_type": "code",
   "execution_count": 112,
   "metadata": {},
   "outputs": [
    {
     "data": {
      "text/plain": [
       "0.97499999999999998"
      ]
     },
     "execution_count": 112,
     "metadata": {},
     "output_type": "execute_result"
    }
   ],
   "source": [
    "# Accuracy\n",
    "accuracy_score(y_test, y_pred)"
   ]
  },
  {
   "cell_type": "markdown",
   "metadata": {},
   "source": [
    "Да, accuracy и ROC-AUC очень высокие -- алгоритм прекрасно предсказывает, т.е. доля правильных ответов большая (accuracy), качество классификатора превосходное (roc-auc). "
   ]
  },
  {
   "cell_type": "markdown",
   "metadata": {},
   "source": [
    "У обученной логистической регрессии есть два аттрибута: `coef_` и `intercept_`, которые соответствуют весам $w$ и $w_0$. Это и есть результат обучения логистической регрессии. Попробуйте с помощью них (с помощью всё той же обученной ранее логистической регрессии) посчитать \"сырое\" предсказание алгоритма $b(x)$. \n",
    "\n",
    "Постройте гистограмму полученных значений и ответьте на вопросы:\n",
    "- Какие значения принимает такое предсказание?\n",
    "- Похожи ли эти значения на вероятность классов?"
   ]
  },
  {
   "cell_type": "code",
   "execution_count": 16,
   "metadata": {
    "collapsed": true
   },
   "outputs": [],
   "source": [
    "import numpy as np"
   ]
  },
  {
   "cell_type": "code",
   "execution_count": 92,
   "metadata": {
    "collapsed": true
   },
   "outputs": [],
   "source": [
    "### ╰( ͡° ͜ʖ ͡° )つ──☆*:・ﾟ\n",
    "y_pred_raw = logisticRegr.intercept_ + np.dot(logisticRegr.coef_, X_test.transpose())"
   ]
  },
  {
   "cell_type": "code",
   "execution_count": 98,
   "metadata": {},
   "outputs": [
    {
     "data": {
      "text/plain": [
       "array([0, 0, 0, 1, 1, 1, 0, 0, 1, 1, 0, 0, 0, 1, 1, 1, 1, 0, 1, 0, 0, 0, 0,\n",
       "       1, 0, 0, 0, 1, 1, 1, 1, 1, 1, 1, 1, 1, 1, 0, 0, 0, 1, 1, 0, 0, 1, 1,\n",
       "       0, 0, 1, 0, 0, 1, 1, 1, 1, 1, 0, 1, 1, 1, 1, 0, 0, 0, 1, 0, 0, 1, 1,\n",
       "       1, 0, 1, 0, 1, 1, 0, 0, 0, 0, 0, 0, 0, 1, 1, 1, 0, 1, 1, 1, 0, 1, 0,\n",
       "       0, 0, 0, 0, 1, 0, 1, 0, 1, 0, 1, 1, 0, 1, 1, 1, 1, 1, 0, 0, 0, 0, 1,\n",
       "       0, 1, 0, 1, 0, 0, 1, 1, 1, 0, 1, 0, 0, 1, 1, 1, 0, 0, 1, 1, 1, 1, 1,\n",
       "       1, 1, 1, 0, 1, 0, 1, 1, 1, 1, 0, 1, 1, 1, 1, 1, 0, 0, 1, 0, 0, 1, 0,\n",
       "       1, 0, 1, 0, 1, 0, 0, 1, 1, 0, 0, 1, 0, 1, 1, 0, 1, 1, 0, 0, 0, 0, 0,\n",
       "       1, 1, 1, 1, 0, 1, 0, 0, 0, 1, 1, 1, 1, 0, 1, 0, 1, 1, 1, 1, 0, 0, 1,\n",
       "       1, 0, 1, 1, 1, 0, 0, 1, 1, 0, 1, 1, 0, 0, 1, 0, 0, 1, 0, 0, 0, 1, 1,\n",
       "       1, 1, 1, 1, 0, 1, 1, 1, 1, 1, 1, 1, 1, 1, 1, 0, 0, 0, 1, 1, 0, 1, 0,\n",
       "       0, 1, 0, 1, 0, 1, 1, 0, 1, 0, 0, 1, 1, 0, 0, 0, 1, 0, 1, 1, 0, 0, 1,\n",
       "       1, 1, 0, 1, 1, 0, 0, 1, 0, 1, 0, 1, 0, 1, 0, 1, 1, 0, 1, 0, 1, 1, 0,\n",
       "       1, 0, 1, 0, 0, 1, 0, 1, 1, 0, 0, 0, 1, 1, 0, 1, 0, 0, 1, 1, 1, 0, 1,\n",
       "       0, 1, 0, 1, 0, 0, 0, 1, 0, 1, 0, 0, 1, 0, 0, 0, 0, 1, 1, 1, 0, 1, 1,\n",
       "       1, 1, 0, 0, 0, 0, 0, 0, 0, 1, 1, 0, 1, 0, 0, 1, 0, 0, 1, 0, 0, 1, 1,\n",
       "       1, 0, 1, 1, 0, 0, 0, 1, 0, 1, 0, 0, 0, 1, 1, 1, 0, 0, 0, 1, 0, 0, 0,\n",
       "       1, 1, 0, 1, 1, 0, 0, 1, 0, 1, 1, 0, 1, 0, 1, 1, 0, 0, 0, 1, 1, 1, 1,\n",
       "       0, 0, 0, 0, 0, 0, 0, 0, 1, 0, 0, 1, 1, 0, 1, 0, 1, 1, 0, 0, 0, 0, 0,\n",
       "       0, 0, 1, 0, 1, 1, 1, 0, 1, 0, 0, 0, 1, 0, 0, 0, 0, 1, 1, 1, 0, 0, 0,\n",
       "       0, 1, 0, 0, 0, 0, 0, 0, 0, 1, 0, 0, 0, 1, 1, 1, 0, 1, 1, 0, 0, 1, 0,\n",
       "       1, 1, 0, 0, 1, 0, 1, 0, 1, 1, 0, 1, 0, 0, 1, 1, 1, 1, 1, 0, 0, 0, 1,\n",
       "       1, 0, 0, 1, 0, 1, 0, 1, 0, 0, 0, 1, 0, 0, 1, 0, 1, 1, 0, 1, 0, 0, 1,\n",
       "       1, 0, 1, 0, 0, 0, 1, 0, 0, 1, 1, 1, 0, 1, 0, 0, 0, 1, 0, 0, 0, 1, 1,\n",
       "       0, 1, 0, 1, 0, 0, 1, 0, 0, 0, 1, 1, 1, 0, 0, 1, 0, 1, 0, 1, 1, 0, 1,\n",
       "       1, 1, 0, 0, 1, 0, 0, 0, 1, 1, 0, 0, 0, 0, 0, 0, 1, 1, 1, 1, 1, 1, 1,\n",
       "       0, 0])"
      ]
     },
     "execution_count": 98,
     "metadata": {},
     "output_type": "execute_result"
    }
   ],
   "source": [
    "y_pred"
   ]
  },
  {
   "cell_type": "code",
   "execution_count": 99,
   "metadata": {},
   "outputs": [
    {
     "data": {
      "text/plain": [
       "array([[ -7.35024928e+00,  -1.48492151e+01,  -5.57666011e-01,\n",
       "          6.68516278e+00,   1.92750174e+01,   6.80484918e+00,\n",
       "         -5.03128741e+00,  -2.93062097e+00,   8.90108818e+00,\n",
       "          2.48590631e+00,  -4.50297513e-01,  -9.21015692e+00,\n",
       "         -1.15241028e+01,   9.65183053e+00,   7.53177731e+00,\n",
       "          4.78324873e+00,   1.53071531e+01,  -1.74307040e+01,\n",
       "          1.42162492e+01,  -1.01970824e+01,  -7.58709313e+00,\n",
       "         -6.99017950e+00,  -4.10971653e-01,   4.38071670e+00,\n",
       "         -3.55679014e+00,  -1.10918836e+01,  -9.60474619e+00,\n",
       "          1.52796641e+01,   4.02150299e+00,   2.39817805e+00,\n",
       "          2.39426366e+00,   6.63226639e-01,   4.79967905e+00,\n",
       "          1.88221813e+00,   1.53956770e+00,   1.53587611e+01,\n",
       "          1.60497357e+01,  -1.57493187e+01,  -8.60170279e+00,\n",
       "         -5.47945462e+00,   1.02591911e+01,   1.21258610e+00,\n",
       "         -8.64963542e-01,  -5.07078984e+00,   9.24075353e+00,\n",
       "          1.86108953e+00,  -2.31881100e+00,  -9.81001993e+00,\n",
       "          1.12347707e+01,  -1.38292868e+01,  -9.48030426e+00,\n",
       "          7.52369400e+00,   9.74629657e+00,   5.70522061e+00,\n",
       "          7.72871707e+00,   4.44010107e+00,  -1.10320269e+01,\n",
       "          2.56559478e+00,   9.89792067e+00,   1.04372928e+01,\n",
       "          1.52824124e+01,  -8.91272376e-01,  -5.76162271e+00,\n",
       "         -9.04029389e+00,   7.55021523e+00,  -1.30433189e+01,\n",
       "         -2.66517164e+00,   9.67189990e+00,   1.02051597e+01,\n",
       "          2.04619007e+00,  -7.58662707e+00,   2.21136992e+00,\n",
       "         -1.06283146e+01,   3.74571158e+00,   9.07912206e+00,\n",
       "         -8.68640047e+00,  -6.81804736e+00,  -1.64291952e+01,\n",
       "         -1.09915917e+01,  -6.41325170e-01,  -3.48385480e+00,\n",
       "         -1.67858605e+01,   1.72065617e+01,   4.87893048e+00,\n",
       "          5.84326287e+00,  -1.27534697e+01,   3.28219565e+00,\n",
       "          5.98177839e+00,   6.87549759e+00,  -9.69008351e+00,\n",
       "          1.67400006e+00,  -2.50645214e+00,  -9.50369107e+00,\n",
       "         -4.44337038e+00,  -7.35449451e+00,  -1.28669407e+01,\n",
       "          1.74534626e+01,  -2.73335112e+00,   3.94631815e+00,\n",
       "         -2.05997443e+01,   1.07448922e+01,  -8.24547172e+00,\n",
       "          1.41864384e+01,   1.28011440e+01,  -1.13869469e+01,\n",
       "          3.34272979e+00,   1.17324271e+01,   6.80500621e-01,\n",
       "          2.18289367e+00,   9.06960044e+00,  -1.72771813e+01,\n",
       "         -2.36460960e+00,  -1.47457947e+01,  -1.42371903e+01,\n",
       "          1.50084083e+01,  -8.64173817e+00,   7.89210418e+00,\n",
       "         -1.23451872e+01,   1.38982421e+01,  -1.46563309e+01,\n",
       "         -1.35326646e+01,   1.65279391e-01,   7.28364694e+00,\n",
       "          1.19508869e+01,  -6.82355688e+00,   1.48825917e+01,\n",
       "         -1.18926433e+01,  -4.44757469e+00,   2.56753588e+00,\n",
       "          7.86312752e+00,   4.62285782e+00,  -7.66970736e-01,\n",
       "         -6.54633696e+00,   5.20129897e+00,   3.54089409e+00,\n",
       "          1.87905859e+01,   1.26431151e+01,   8.91038707e+00,\n",
       "          1.15864531e+01,   5.56212313e+00,   5.58572738e+00,\n",
       "         -1.02291753e+01,   4.85360759e+00,  -1.52665187e-01,\n",
       "          1.24227388e+01,   6.91227384e+00,   7.75761439e+00,\n",
       "          1.22061796e+01,  -1.44975401e+01,   7.83361055e+00,\n",
       "          1.09169621e+00,   7.94678152e+00,   2.86867270e+00,\n",
       "          3.30981344e+00,  -8.85051190e+00,  -8.77640232e+00,\n",
       "          1.28566852e+01,  -8.03041578e+00,  -1.04418761e+01,\n",
       "          6.10097452e-01,  -1.01421236e+01,   1.47412707e+01,\n",
       "         -2.91681628e-01,   2.05101834e+00,  -4.30891293e+00,\n",
       "          6.57769019e+00,  -4.75495736e+00,  -1.28213687e+01,\n",
       "          3.45430410e+00,   4.98705278e+00,  -6.03237886e+00,\n",
       "         -6.78178942e+00,   8.80877674e+00,  -2.76510151e+00,\n",
       "          1.73907879e+00,   1.01051457e+01,  -1.24407893e+01,\n",
       "          5.71653600e+00,   1.57399444e+01,  -4.62835897e+00,\n",
       "         -3.04811150e+00,  -6.56722835e-01,  -5.74906517e+00,\n",
       "         -5.04912484e+00,   4.36100164e+00,   2.08362052e+00,\n",
       "          1.75767738e+01,   1.48395943e+00,  -6.37482652e+00,\n",
       "          7.17278826e+00,  -2.54647485e+00,  -2.39106985e-01,\n",
       "         -1.42596861e+01,   3.76639240e+00,   1.37704330e+01,\n",
       "          1.26438427e+01,   8.60678321e+00,  -2.26131358e+00,\n",
       "          1.29572836e+01,  -2.12265450e+00,   8.65470374e+00,\n",
       "          3.95987397e-01,   6.67152601e-01,   1.37698841e+01,\n",
       "         -1.35615338e+01,  -4.67512069e+00,   4.44424078e+00,\n",
       "          1.24676122e+01,  -6.46405021e+00,   8.70070238e+00,\n",
       "          7.37827429e+00,   1.35522654e+00,  -7.75741184e+00,\n",
       "         -1.03391028e+01,   1.01520261e-01,   7.02561595e-01,\n",
       "         -6.59853821e+00,   8.20957764e+00,   5.24792631e+00,\n",
       "         -1.12850622e+01,  -5.72821676e+00,   1.20080309e+01,\n",
       "         -1.16465238e+01,  -1.27597112e+01,   1.22839262e+01,\n",
       "         -9.34104464e+00,  -1.16506337e+01,  -8.00772843e+00,\n",
       "          8.48148036e+00,   4.50728356e+00,   1.83458359e+00,\n",
       "          9.80085940e+00,   1.29105895e+01,   4.67810347e+00,\n",
       "         -8.92315360e+00,   1.11081347e+01,   7.60004687e+00,\n",
       "          8.44761698e-01,   1.11128429e+01,   2.52298668e+00,\n",
       "          6.49652682e-01,   4.40172439e+00,   2.24663592e+00,\n",
       "          7.84999947e+00,   3.48189912e+00,  -5.74961475e+00,\n",
       "         -5.29793260e+00,  -5.42394068e+00,   8.30613347e+00,\n",
       "          6.55210088e+00,  -5.11284474e+00,   3.60535441e+00,\n",
       "         -6.94061220e+00,  -7.53542782e+00,   1.55125895e+00,\n",
       "         -2.96731078e+00,   1.06724453e+00,  -3.51805287e+00,\n",
       "          4.61891892e+00,   8.38974966e+00,  -1.20373798e+01,\n",
       "          6.56997751e+00,  -8.08672805e+00,  -7.80868025e+00,\n",
       "          5.21150238e+00,   1.67722653e+01,  -9.98756787e+00,\n",
       "         -5.70181526e+00,  -5.96640946e-02,   2.01063488e+01,\n",
       "         -7.94735475e+00,   5.28438124e+00,   7.90055090e+00,\n",
       "         -3.50547125e+00,  -1.43813643e+01,   5.62596287e+00,\n",
       "          1.31957842e-01,   1.92175709e+00,  -1.02043818e+01,\n",
       "          5.72299774e+00,   2.19857688e+00,  -1.35465466e+01,\n",
       "         -4.97532296e+00,   5.01120622e+00,  -2.57753796e+00,\n",
       "          8.57243042e+00,  -1.49900196e+01,   3.52074041e+00,\n",
       "         -1.33878386e+01,   1.43402414e+00,  -1.07187845e+01,\n",
       "          1.07389152e+00,   9.13472174e+00,  -7.48116240e+00,\n",
       "          2.26928277e+00,  -8.98850806e+00,   6.34291151e+00,\n",
       "          1.31715884e+01,  -5.87793429e+00,   1.58732539e+01,\n",
       "         -1.02555085e+01,   8.52712813e+00,  -8.04737157e-01,\n",
       "         -1.09044300e+00,   1.44747078e+00,  -2.16230682e-01,\n",
       "          2.79506437e+00,   1.31764533e+00,  -4.80530116e+00,\n",
       "         -1.16025232e+01,  -1.48722559e+01,   1.50153359e-01,\n",
       "          9.24217690e+00,  -6.69289668e+00,   2.15478348e+00,\n",
       "         -1.40647020e+01,  -9.58139873e+00,   3.88875217e+00,\n",
       "          7.03731241e+00,   1.65790965e+01,  -2.66740922e-01,\n",
       "          6.45452940e+00,  -2.27467789e+00,   1.82565109e+01,\n",
       "         -5.68015426e+00,   5.76344105e+00,  -6.33961579e+00,\n",
       "         -2.87108799e+00,  -6.78861033e+00,   8.87171978e+00,\n",
       "         -1.37551458e+01,   6.68214808e+00,  -9.08507213e+00,\n",
       "         -1.33603103e+00,   1.72026439e+00,  -7.29327114e+00,\n",
       "         -6.37452347e+00,  -1.55297913e+01,  -1.12693834e+01,\n",
       "          2.23913439e-01,   3.00438159e+00,   1.70912442e+00,\n",
       "         -1.63696670e+01,   8.88243642e+00,   6.83478321e+00,\n",
       "          3.20178518e+00,   1.35005261e+01,  -4.80026262e-02,\n",
       "         -1.31703873e+01,  -3.63921359e-01,  -5.79988649e+00,\n",
       "         -1.62544486e+01,  -1.04437514e+01,  -2.92654396e+00,\n",
       "          1.24252019e+01,   3.35848968e+00,  -5.69178683e+00,\n",
       "          2.30562311e+00,  -4.64794401e+00,  -8.03869914e+00,\n",
       "          6.75109638e+00,  -3.48425832e+00,  -4.05331712e+00,\n",
       "          9.26291104e+00,  -1.19527130e+01,  -3.92805966e+00,\n",
       "          2.32532106e+00,   4.66566716e+00,   7.70595031e+00,\n",
       "         -1.83129129e+01,   1.20044388e+01,   2.69128779e+00,\n",
       "         -1.04643226e+01,  -6.03175466e+00,  -2.91827874e+00,\n",
       "          1.95468469e+01,  -1.61968314e+01,   1.18874622e+01,\n",
       "         -6.39611073e+00,  -1.11700551e+01,  -3.04947920e+00,\n",
       "          8.10372963e+00,   1.68892887e+01,   4.68138398e+00,\n",
       "         -5.46284303e+00,  -4.82594650e+00,  -5.80179947e+00,\n",
       "          5.76994170e+00,  -7.37548690e+00,  -1.10472568e+01,\n",
       "         -8.03743715e+00,   4.54668310e-02,   6.83254516e+00,\n",
       "         -7.73544693e-01,   1.36874072e+01,   1.26523092e+01,\n",
       "         -1.32430174e+01,  -1.23001846e-02,   1.05485735e+01,\n",
       "         -1.43457271e+01,   1.48997189e+01,   1.03476258e+00,\n",
       "         -2.60627308e+00,   3.48546575e+00,  -2.83225658e+00,\n",
       "          6.86324123e+00,   8.52639708e+00,  -1.64335585e+00,\n",
       "         -2.67928332e+00,  -6.22471007e+00,   6.76316826e+00,\n",
       "          3.29864220e+00,   2.20860105e+01,   1.14833844e+01,\n",
       "         -6.23947828e+00,  -4.73107638e-01,  -1.82814488e+00,\n",
       "         -1.39501426e+00,  -1.82957807e+01,  -1.09467456e+01,\n",
       "         -1.13020293e+01,  -1.26860334e+00,   2.36447493e+00,\n",
       "         -1.59796550e+01,  -3.08909214e+00,   2.06431844e+00,\n",
       "          1.86771544e+00,  -8.84969554e+00,   1.36581024e+01,\n",
       "         -4.05982969e+00,   6.18634642e+00,   1.69426833e+01,\n",
       "         -1.05283071e+01,  -6.73975902e+00,  -8.66806555e+00,\n",
       "         -9.20186062e+00,  -1.22575665e+00,  -7.47142585e+00,\n",
       "         -3.49871617e+00,   5.12161347e+00,  -3.86484206e+00,\n",
       "          2.12749567e+01,   3.28550243e+00,   1.22890174e+01,\n",
       "         -1.08027519e+01,   2.63833819e+00,  -5.54071699e+00,\n",
       "         -4.41699821e+00,  -1.23176988e-01,   2.16332976e+00,\n",
       "         -8.97474083e-01,  -2.10091080e+01,  -4.68196074e+00,\n",
       "         -4.30083453e+00,   8.46553129e+00,   1.10988536e+01,\n",
       "          1.15493724e+01,  -4.30244400e-02,  -1.38609818e+00,\n",
       "         -9.96181476e+00,  -7.72592874e+00,   1.29725933e+01,\n",
       "         -7.23688953e-01,  -9.22645776e+00,  -1.44014348e+01,\n",
       "         -5.89401353e+00,  -1.88511267e-01,  -1.09127092e+01,\n",
       "         -2.71110810e+00,   1.79703498e+00,  -7.07946639e-01,\n",
       "         -6.96874337e-01,  -7.09407498e+00,   1.47797573e+01,\n",
       "          1.37820802e+00,   1.19710553e+01,  -8.53139518e+00,\n",
       "          1.69202725e+01,   2.70794653e+00,  -4.68512610e+00,\n",
       "         -1.09164347e+01,   1.19383003e+01,  -7.66715097e+00,\n",
       "          3.61295100e+00,   9.80645777e+00,  -1.02432092e+01,\n",
       "         -1.34195571e+01,   7.42905544e+00,  -1.12470842e+01,\n",
       "          9.21008157e+00,  -1.01466481e+01,   8.93655332e+00,\n",
       "          3.93519553e+00,  -6.78475457e+00,   1.04049573e+01,\n",
       "         -1.34925590e+00,  -1.48568711e+00,   1.04954532e+01,\n",
       "          1.35196061e+01,   9.08140472e+00,   5.74163619e+00,\n",
       "          2.46492570e+00,  -1.60075051e+01,  -9.78470091e-01,\n",
       "         -5.53696687e+00,   6.28945008e+00,   3.29644172e+00,\n",
       "         -4.13428310e+00,  -7.63558659e+00,   5.58062761e-01,\n",
       "         -7.06075657e+00,   3.18148185e-01,  -1.41548123e+01,\n",
       "          9.68340661e-01,  -6.03370972e+00,  -1.48706179e+01,\n",
       "         -4.99684959e+00,   2.60149043e+00,  -2.90264570e+00,\n",
       "         -3.19764900e+00,   5.71851043e+00,  -1.36705412e+01,\n",
       "          3.45921826e+00,   1.62775040e+01,  -1.54342065e+01,\n",
       "          6.61306888e+00,  -5.59532523e-01,  -5.27381923e+00,\n",
       "          1.71088279e+01,   4.05420761e+00,  -9.07618999e+00,\n",
       "          1.31927304e+01,  -1.78895684e+01,  -2.52256554e-01,\n",
       "         -6.19182124e+00,   1.62323973e+01,  -1.44319248e+00,\n",
       "         -1.04142544e+01,   1.03134122e+01,   3.00317834e-01,\n",
       "          6.74060484e-01,  -6.90115457e+00,   1.05130342e+01,\n",
       "         -1.16471352e+01,  -5.89169261e+00,  -2.19866650e+00,\n",
       "          4.23080824e+00,  -6.93105618e+00,  -2.66504853e+00,\n",
       "         -1.14296119e+01,   3.21853240e+00,   9.40281172e+00,\n",
       "         -1.62300731e+01,   6.78945043e+00,  -1.03944358e+01,\n",
       "          1.13006835e+01,  -2.24542404e+00,  -8.57324895e+00,\n",
       "          1.98253372e+01,  -1.40447543e+01,  -7.53126099e+00,\n",
       "         -4.36919815e+00,   5.14293069e+00,   9.92475672e-02,\n",
       "          3.07052721e+00,  -1.24824841e+01,  -1.26767052e+01,\n",
       "          4.37527810e+00,  -3.80749210e+00,   4.99876063e+00,\n",
       "         -1.30381095e+01,   9.70040912e+00,   3.31305687e-01,\n",
       "         -1.33170747e+01,   8.47874170e+00,   1.40998862e+01,\n",
       "          8.34693557e+00,  -1.18259061e+01,  -1.28604304e+01,\n",
       "          2.04222602e+01,  -1.33267588e+01,  -3.33287849e+00,\n",
       "         -5.34512271e+00,   6.69060833e+00,   1.26163869e+00,\n",
       "         -1.16052562e+01,  -7.60482351e-01,  -1.68998922e+01,\n",
       "         -3.86992980e+00,  -5.15238161e+00,  -9.95639944e+00,\n",
       "          7.23049804e+00,   1.36982026e+01,   5.36787235e+00,\n",
       "          1.27850440e+01,   1.31334688e+01,   1.03833942e+01,\n",
       "          2.52752297e+00,  -1.55213089e+01,  -4.82142176e+00]])"
      ]
     },
     "execution_count": 99,
     "metadata": {},
     "output_type": "execute_result"
    }
   ],
   "source": [
    "y_pred_raw"
   ]
  },
  {
   "cell_type": "markdown",
   "metadata": {},
   "source": [
    "Учитывая, что вероятность принадлежности к классу может принимать значения от 0 до 1, это точно не вероятностные значения. Но мы можем заметить, что все негативные и положительные числа в 'y_pred_raw' сопоставляются с принадлежностью к классу 0 и классу 1, соответственно. Чтобы получить вероятности, нужно обернуть 'y_pred_raw' в сигмоиду, определенную на промежутке [0, 1]."
   ]
  },
  {
   "cell_type": "markdown",
   "metadata": {},
   "source": [
    "Реализуйте сигмоиду и постройте её график. Что вы можете сказать об этой функции?"
   ]
  },
  {
   "cell_type": "code",
   "execution_count": 101,
   "metadata": {
    "collapsed": true
   },
   "outputs": [],
   "source": [
    "### ╰( ͡° ͜ʖ ͡° )つ──☆*:・ﾟ\n",
    "# sigmoid function\n",
    "def sigmoid(x):\n",
    "    return (1 / (1 + np.exp(-x)))"
   ]
  },
  {
   "cell_type": "code",
   "execution_count": 193,
   "metadata": {
    "collapsed": true
   },
   "outputs": [],
   "source": [
    "from matplotlib import pylab as plt"
   ]
  },
  {
   "cell_type": "code",
   "execution_count": 120,
   "metadata": {},
   "outputs": [
    {
     "data": {
      "image/png": "[encoded data removed]",
      "text/plain": [
       "<matplotlib.figure.Figure at 0x117a93240>"
      ]
     },
     "metadata": {},
     "output_type": "display_data"
    }
   ],
   "source": [
    "x = np.linspace(-10, 10, 1000)\n",
    "\n",
    "plt.title('Sigmoid function')\n",
    "plt.plot(x, sigmoid(x))\n",
    "plt.show()"
   ]
  },
  {
   "cell_type": "markdown",
   "metadata": {},
   "source": [
    "Нелинейная гладкая функция. Хорошо дифференциируема -- отлично подходит для реализации градиентного спуска. Область значений функции -- [0, 1] $\\in R$, может быть использована для реализации алгоритмов, выдающих вероятностные значения или классифицирующих. \n",
    "\n",
    "___К тому же (понадобится на 3 курсе):___ может возникнуть проблема \"vanishing gradient\" при обучения нейронной сети с сигмоидой в качестве функции активации, если используем градиентные методы обучения типа Backpropagation. Из-за небольшого порога области значений сигмоиды градиент рискует быть настолько маленьким, что станет неинформативен при обновлении весов --> первые слои нейросети неинформативны --> недообучение или прекращение процесса обучения вообще."
   ]
  },
  {
   "cell_type": "markdown",
   "metadata": {},
   "source": [
    "Примените реализованную сигмоиду к $b(x)$. Вы должны получить вероятности принадлежности к положительному классу. Проверьте, что ваши значения совпали с теми, которые получены с помощью `predict_proba`."
   ]
  },
  {
   "cell_type": "code",
   "execution_count": 134,
   "metadata": {},
   "outputs": [
    {
     "data": {
      "text/plain": [
       "array([[  6.42019742e-04,   3.55686727e-07,   3.64087672e-01,\n",
       "          9.98752247e-01,   9.99999996e-01,   9.98892840e-01,\n",
       "          6.48802843e-03,   5.06604516e-02,   9.99863778e-01,\n",
       "          9.23147875e-01,   3.89290032e-01,   1.00008344e-04,\n",
       "          9.88875140e-06,   9.99935696e-01,   9.99464502e-01,\n",
       "          9.91700688e-01,   9.99999775e-01,   2.69117193e-08,\n",
       "          9.99999330e-01,   3.72775339e-05,   5.06695687e-04,\n",
       "          9.20033973e-04,   3.98679160e-01,   9.87638338e-01,\n",
       "          2.77388594e-02,   1.52352491e-05,   6.74035008e-05,\n",
       "          9.99999769e-01,   9.82389681e-01,   9.16688265e-01,\n",
       "          9.16388831e-01,   6.59984835e-01,   9.91834830e-01,\n",
       "          8.67865698e-01,   8.23401872e-01,   9.99999786e-01,\n",
       "          9.99999893e-01,   1.44596488e-07,   1.83758793e-04,\n",
       "          4.15427421e-03,   9.99964967e-01,   7.70756210e-01,\n",
       "          2.96303364e-01,   6.23829934e-03,   9.99903005e-01,\n",
       "          8.65423891e-01,   8.95769785e-02,   5.48957391e-05,\n",
       "          9.99986793e-01,   9.86317259e-07,   7.63348790e-05,\n",
       "          9.99460158e-01,   9.99941492e-01,   9.96682499e-01,\n",
       "          9.99560185e-01,   9.88342748e-01,   1.61750110e-05,\n",
       "          9.28614226e-01,   9.99949723e-01,   9.99970682e-01,\n",
       "          9.99999769e-01,   2.90847324e-01,   3.13613611e-03,\n",
       "          1.18521946e-04,   9.99474280e-01,   2.16450012e-06,\n",
       "          6.50600482e-02,   9.99936974e-01,   9.99963022e-01,\n",
       "          8.85562080e-01,   5.06931776e-04,   9.01265897e-01,\n",
       "          2.42198304e-05,   9.76926160e-01,   9.99885991e-01,\n",
       "          1.68838264e-04,   1.09265953e-03,   7.32640870e-08,\n",
       "          1.68424415e-05,   3.44947044e-01,   2.97751182e-02,\n",
       "          5.12853580e-08,   9.99999966e-01,   9.92452258e-01,\n",
       "          9.97109015e-01,   2.89225933e-06,   9.63812941e-01,\n",
       "          9.97482023e-01,   9.98968282e-01,   6.18904046e-05,\n",
       "          8.42108405e-01,   7.54070971e-02,   7.45704943e-05,\n",
       "          1.16196452e-02,   6.39301734e-04,   2.58200774e-06,\n",
       "          9.99999974e-01,   6.10338320e-02,   9.81040677e-01,\n",
       "          1.13147433e-09,   9.99978445e-01,   2.62375432e-04,\n",
       "          9.99999310e-01,   9.99997242e-01,   1.13424498e-05,\n",
       "          9.65865955e-01,   9.99991971e-01,   6.63850422e-01,\n",
       "          8.98702804e-01,   9.99884901e-01,   3.13772929e-08,\n",
       "          8.59115074e-02,   3.94441449e-07,   6.55943642e-07,\n",
       "          9.99999697e-01,   1.76548534e-04,   9.99626457e-01,\n",
       "          4.35062291e-06,   9.99999079e-01,   4.31356334e-07,\n",
       "          1.32689895e-06,   5.41226042e-01,   9.99313794e-01,\n",
       "          9.99993547e-01,   1.08666258e-03,   9.99999656e-01,\n",
       "          6.84049700e-06,   1.15714593e-02,   9.28742793e-01,\n",
       "          9.99615479e-01,   9.90270906e-01,   3.17134761e-01,\n",
       "          1.43330646e-03,   9.94520784e-01,   9.71829200e-01,\n",
       "          9.99999993e-01,   9.99996770e-01,   9.99865039e-01,\n",
       "          9.99990709e-01,   9.96174080e-01,   9.96262997e-01,\n",
       "          3.61002279e-05,   9.92260185e-01,   4.61907658e-01,\n",
       "          9.99995974e-01,   9.99005498e-01,   9.99572708e-01,\n",
       "          9.99995001e-01,   5.05589561e-07,   9.99603964e-01,\n",
       "          7.48700994e-01,   9.99646326e-01,   9.46275911e-01,\n",
       "          9.64763939e-01,   1.43287824e-04,   1.54308512e-04,\n",
       "          9.99997391e-01,   3.25307021e-04,   2.91835538e-05,\n",
       "          6.47963032e-01,   3.93835249e-05,   9.99999604e-01,\n",
       "          4.27592227e-01,   8.86050476e-01,   1.32697076e-02,\n",
       "          9.98610874e-01,   8.53543103e-03,   2.70239712e-06,\n",
       "          9.69359239e-01,   9.93220523e-01,   2.39403331e-03,\n",
       "          1.13295839e-03,   9.99850606e-01,   5.92394182e-02,\n",
       "          8.50570016e-01,   9.99959133e-01,   3.95395895e-06,\n",
       "          9.96719704e-01,   9.99999854e-01,   9.67623568e-03,\n",
       "          4.52990753e-02,   3.41476165e-01,   3.17564072e-03,\n",
       "          6.37405587e-03,   9.87395312e-01,   8.89300957e-01,\n",
       "          9.99999977e-01,   8.15169885e-01,   1.70101698e-03,\n",
       "          9.99233407e-01,   7.26636650e-02,   4.40506432e-01,\n",
       "          6.41352422e-07,   9.77387766e-01,   9.99998954e-01,\n",
       "          9.99996773e-01,   9.99817172e-01,   9.43780364e-02,\n",
       "          9.99997641e-01,   1.06914345e-01,   9.99825725e-01,\n",
       "          5.97723208e-01,   6.60865286e-01,   9.99998953e-01,\n",
       "          1.28914013e-06,   9.23825853e-03,   9.88390347e-01,\n",
       "          9.99996151e-01,   1.55604573e-03,   9.99833559e-01,\n",
       "          9.99375712e-01,   7.94982790e-01,   4.27379015e-04,\n",
       "          3.23422821e-05,   5.25358290e-01,   6.68755466e-01,\n",
       "          1.36050457e-03,   9.99728038e-01,   9.94769095e-01,\n",
       "          1.25589787e-05,   3.24232583e-03,   9.99993905e-01,\n",
       "          8.74933782e-06,   2.87426358e-06,   9.99995375e-01,\n",
       "          8.77400245e-05,   8.71345312e-06,   3.32769247e-04,\n",
       "          9.99792771e-01,   9.89091921e-01,   8.62306858e-01,\n",
       "          9.99944599e-01,   9.99997528e-01,   9.90789003e-01,\n",
       "          1.33249552e-04,   9.99985010e-01,   9.99499822e-01,\n",
       "          6.99467136e-01,   9.99985081e-01,   9.25737643e-01,\n",
       "          6.56932191e-01,   9.87892208e-01,   9.04359961e-01,\n",
       "          9.99610400e-01,   9.70168333e-01,   3.17390147e-03,\n",
       "          4.97702948e-03,   4.39037462e-03,   9.99753064e-01,\n",
       "          9.98574920e-01,   5.98292537e-03,   9.73541279e-01,\n",
       "          9.66741510e-04,   5.33548005e-04,   8.25095489e-01,\n",
       "          4.89247035e-02,   7.44072549e-01,   2.88029137e-02,\n",
       "          9.90232884e-01,   9.99772867e-01,   5.91874729e-06,\n",
       "          9.98600133e-01,   3.07499960e-04,   4.06028843e-04,\n",
       "          9.94576105e-01,   9.99999948e-01,   4.59657578e-05,\n",
       "          3.32877940e-03,   4.85088400e-01,   9.99999998e-01,\n",
       "          3.53471292e-04,   9.94955408e-01,   9.99629598e-01,\n",
       "          2.91569575e-02,   5.67874783e-07,   9.96409844e-01,\n",
       "          5.32941674e-01,   8.72334244e-01,   3.70064322e-05,\n",
       "          9.96740763e-01,   9.00121642e-01,   1.30860624e-06,\n",
       "          6.85891848e-03,   9.93381238e-01,   7.05981043e-02,\n",
       "          9.99810784e-01,   3.08970543e-07,   9.71272171e-01,\n",
       "          1.53368047e-06,   8.07527549e-01,   2.21249065e-05,\n",
       "          7.45336271e-01,   9.99892157e-01,   5.63284437e-04,\n",
       "          9.06300899e-01,   1.24820620e-04,   9.98243916e-01,\n",
       "          9.99998096e-01,   2.79274319e-03,   9.99999872e-01,\n",
       "          3.51620325e-05,   9.99802016e-01,   3.09013108e-01,\n",
       "          2.51534867e-01,   8.09608880e-01,   4.46151975e-01,\n",
       "          9.42408529e-01,   7.88789684e-01,   8.11976499e-03,\n",
       "          9.14290582e-06,   3.47585136e-07,   5.37467970e-01,\n",
       "          9.99903143e-01,   1.23815167e-03,   8.96114930e-01,\n",
       "          7.79430145e-07,   6.89956068e-05,   9.79939776e-01,\n",
       "          9.99122287e-01,   9.99999937e-01,   4.33707368e-01,\n",
       "          9.98429092e-01,   9.32419534e-02,   9.99999988e-01,\n",
       "          3.40142275e-03,   9.96869543e-01,   1.76187057e-03,\n",
       "          5.36014335e-02,   1.12526555e-03,   9.99859719e-01,\n",
       "          1.06222282e-06,   9.98748485e-01,   1.13332399e-04,\n",
       "          2.08163511e-01,   8.48162888e-01,   6.79637486e-04,\n",
       "          1.70153167e-03,   1.80093177e-07,   1.27574369e-05,\n",
       "          5.55745643e-01,   9.52771680e-01,   8.46722683e-01,\n",
       "          7.77577919e-08,   9.99861214e-01,   9.98925455e-01,\n",
       "          9.60901401e-01,   9.99998630e-01,   4.88001647e-01,\n",
       "          1.90621825e-06,   4.10010648e-01,   3.01875794e-03,\n",
       "          8.72534513e-08,   2.91288765e-05,   5.08568911e-02,\n",
       "          9.99995984e-01,   9.66381744e-01,   3.36221696e-03,\n",
       "          9.09341673e-01,   9.49035101e-03,   3.22624382e-04,\n",
       "          9.98831770e-01,   2.97634631e-02,   1.70682929e-02,\n",
       "          9.99905130e-01,   6.44169137e-06,   1.93019278e-02,\n",
       "          9.10952520e-01,   9.90674811e-01,   9.99550062e-01,\n",
       "          1.11378910e-08,   9.99993883e-01,   9.36510595e-01,\n",
       "          2.85357995e-05,   2.39552455e-03,   5.12573413e-02,\n",
       "          9.99999997e-01,   9.24284011e-08,   9.99993124e-01,\n",
       "          1.66525440e-03,   1.40896623e-05,   4.52399632e-02,\n",
       "          9.99697682e-01,   9.99999954e-01,   9.90818893e-01,\n",
       "          4.22356575e-03,   7.95516817e-03,   3.01300602e-03,\n",
       "          9.96889764e-01,   6.26029458e-04,   1.59305372e-05,\n",
       "          3.23031655e-04,   5.11364750e-01,   9.98923050e-01,\n",
       "          3.15712817e-01,   9.99998863e-01,   9.99996800e-01,\n",
       "          1.77267794e-06,   4.96924993e-01,   9.99973770e-01,\n",
       "          5.88477202e-07,   9.99999662e-01,   7.37838179e-01,\n",
       "          6.87357850e-02,   9.70271385e-01,   5.56057773e-02,\n",
       "          9.98955572e-01,   9.99801872e-01,   1.62008948e-01,\n",
       "          6.42069241e-02,   1.97598552e-03,   9.98845772e-01,\n",
       "          9.64382201e-01,   1.00000000e+00,   9.99989700e-01,\n",
       "          1.94707456e-03,   3.83880972e-01,   1.38459419e-01,\n",
       "          1.98608465e-01,   1.13303513e-08,   1.76149389e-05,\n",
       "          1.23476890e-05,   2.19496430e-01,   9.14077916e-01,\n",
       "          1.14848140e-07,   4.35594427e-02,   8.87386442e-01,\n",
       "          8.66193713e-01,   1.43404829e-04,   9.99998830e-01,\n",
       "          1.69593746e-02,   9.97946894e-01,   9.99999956e-01,\n",
       "          2.67671842e-05,   1.18153451e-03,   1.71961916e-04,\n",
       "          1.00841411e-04,   2.26924974e-01,   5.68792537e-04,\n",
       "          2.93487816e-02,   9.94068998e-01,   2.05356778e-02,\n",
       "          9.99999999e-01,   9.63928096e-01,   9.99995398e-01,\n",
       "          2.03430294e-05,   9.33288573e-01,   3.90837722e-03,\n",
       "          1.19264536e-02,   4.69244630e-01,   8.96907839e-01,\n",
       "          2.89569851e-01,   7.51381205e-10,   9.17586180e-03,\n",
       "          1.33759001e-02,   9.99789440e-01,   9.99984871e-01,\n",
       "          9.99990358e-01,   4.89245549e-01,   2.00031391e-01,\n",
       "          4.71648369e-05,   4.41042253e-04,   9.99997677e-01,\n",
       "          3.26581168e-01,   9.83914986e-05,   5.56590903e-07,\n",
       "          2.74831953e-03,   4.53011252e-01,   1.82247962e-05,\n",
       "          6.23210655e-02,   8.57787622e-01,   3.30052717e-01,\n",
       "          3.32505592e-01,   8.29319856e-04,   9.99999619e-01,\n",
       "          7.98703046e-01,   9.99993675e-01,   1.97140804e-04,\n",
       "          9.99999955e-01,   9.37493925e-01,   9.14712811e-03,\n",
       "          1.81570277e-05,   9.99993465e-01,   4.67730255e-04,\n",
       "          9.73736255e-01,   9.99944908e-01,   3.55971553e-05,\n",
       "          1.48579796e-06,   9.99406604e-01,   1.30451094e-05,\n",
       "          9.99899984e-01,   3.92057423e-05,   9.99868524e-01,\n",
       "          9.80832687e-01,   1.12960777e-03,   9.99969719e-01,\n",
       "          2.05992050e-01,   1.84569951e-01,   9.99972339e-01,\n",
       "          9.99998656e-01,   9.99886251e-01,   9.96800755e-01,\n",
       "          9.21646110e-01,   1.11693739e-07,   2.73195456e-01,\n",
       "          3.92300402e-03,   9.98147657e-01,   9.64306539e-01,\n",
       "          1.57617310e-02,   4.82722103e-04,   6.36004182e-01,\n",
       "          8.57392860e-04,   5.78872884e-01,   7.12266965e-07,\n",
       "          7.24788633e-01,   2.39085691e-03,   3.48154948e-07,\n",
       "          6.71382762e-03,   9.30957440e-01,   5.20229315e-02,\n",
       "          3.92542911e-02,   9.96726153e-01,   1.15600282e-06,\n",
       "          9.69504863e-01,   9.99999915e-01,   1.98156891e-07,\n",
       "          9.98659095e-01,   3.63655632e-01,   5.09788182e-03,\n",
       "          9.99999963e-01,   9.82946640e-01,   1.14343402e-04,\n",
       "          9.99998136e-01,   1.70082307e-08,   4.37268163e-01,\n",
       "          2.04191897e-03,   9.99999911e-01,   1.91051461e-01,\n",
       "          3.00008643e-05,   9.99966816e-01,   5.74520212e-01,\n",
       "          6.62411772e-01,   1.00561027e-03,   9.99972821e-01,\n",
       "          8.74398975e-06,   2.75468799e-03,   9.98703015e-02,\n",
       "          9.85667766e-01,   9.76014929e-04,   6.50675372e-02,\n",
       "          1.08687075e-05,   9.61525759e-01,   9.99917515e-01,\n",
       "          8.94064301e-08,   9.98875678e-01,   3.06013523e-05,\n",
       "          9.99987636e-01,   9.57449089e-02,   1.89061533e-04,\n",
       "          9.99999998e-01,   7.95134068e-07,   5.35774652e-04,\n",
       "          1.25030826e-02,   9.94193366e-01,   5.24791545e-01,\n",
       "          9.55660518e-01,   3.79248946e-06,   3.12302538e-06,\n",
       "          9.87571763e-01,   2.17214945e-02,   9.93298905e-01,\n",
       "          2.17580540e-06,   9.99938745e-01,   5.82077037e-01,\n",
       "          1.64614174e-06,   9.99792203e-01,   9.99999248e-01,\n",
       "          9.99762934e-01,   7.31258750e-06,   2.59887201e-06,\n",
       "          9.99999999e-01,   1.63027729e-06,   3.44603265e-02,\n",
       "          4.74870784e-03,   9.98759015e-01,   7.79308071e-01,\n",
       "          9.11795254e-06,   3.18541552e-01,   4.57583161e-08,\n",
       "          2.04335924e-02,   5.75232853e-03,   4.74209303e-05,\n",
       "          9.99276364e-01,   9.99998876e-01,   9.95357608e-01,\n",
       "          9.99997198e-01,   9.99998022e-01,   9.99969059e-01,\n",
       "          9.26048899e-01,   1.81627294e-07,   7.99095649e-03]])"
      ]
     },
     "execution_count": 134,
     "metadata": {},
     "output_type": "execute_result"
    }
   ],
   "source": [
    "### ╰( ͡° ͜ʖ ͡° )つ──☆*:・ﾟ\n",
    "y_sig = sigmoid(y_pred_raw)\n",
    "y_sig"
   ]
  },
  {
   "cell_type": "code",
   "execution_count": 107,
   "metadata": {
    "scrolled": false
   },
   "outputs": [
    {
     "data": {
      "text/plain": [
       "array([[  9.99357980e-01,   6.42019742e-04],\n",
       "       [  9.99999644e-01,   3.55686727e-07],\n",
       "       [  6.35912328e-01,   3.64087672e-01],\n",
       "       ..., \n",
       "       [  7.39511007e-02,   9.26048899e-01],\n",
       "       [  9.99999818e-01,   1.81627294e-07],\n",
       "       [  9.92009044e-01,   7.99095649e-03]])"
      ]
     },
     "execution_count": 107,
     "metadata": {},
     "output_type": "execute_result"
    }
   ],
   "source": [
    "y_pred_1"
   ]
  },
  {
   "cell_type": "markdown",
   "metadata": {},
   "source": [
    "`y_pred_1` выдает вероятности принадлежности к классам 0 и 1 для каждого объекта, тогда как `sigmoid(y_pred_raw)` выдает только вероятности принадлежности к классу 1. Посмотрим только на второй столбец значений `y_pred_1` -- они идентичны выдаче `sigmoid(y_pred_raw)`."
   ]
  },
  {
   "cell_type": "markdown",
   "metadata": {},
   "source": [
    "Таким образом, обучение логистической регрессии — настройка параметров $w$ и $w_0$, а применение — подсчёт вероятностей принадлежности положительному классу как применение сигмоды к скалярному произведению признаков и параметров.\n",
    "\n",
    "Постройте для обученной логистической регрессии ROC-кривую `roc_curve` и PR-кривую `precision_recall_curve`."
   ]
  },
  {
   "cell_type": "code",
   "execution_count": 14,
   "metadata": {
    "collapsed": true
   },
   "outputs": [],
   "source": [
    "### ╰( ͡° ͜ʖ ͡° )つ──☆*:・ﾟ\n",
    "from sklearn.metrics import roc_curve, precision_recall_curve"
   ]
  },
  {
   "cell_type": "code",
   "execution_count": 138,
   "metadata": {
    "collapsed": true
   },
   "outputs": [],
   "source": [
    "# fpr, tpr, thresholds\n",
    "x, y, t = roc_curve(y_test, y_sig.reshape([600, -1]))"
   ]
  },
  {
   "cell_type": "code",
   "execution_count": 139,
   "metadata": {},
   "outputs": [
    {
     "data": {
      "image/png": "[encoded data removed]",
      "text/plain": [
       "<matplotlib.figure.Figure at 0x115638518>"
      ]
     },
     "metadata": {},
     "output_type": "display_data"
    }
   ],
   "source": [
    "plt.plot(x, y)\n",
    "plt.show()"
   ]
  },
  {
   "cell_type": "markdown",
   "metadata": {},
   "source": [
    "Мечта датасаентолога, почти roc-haven (0,1)!"
   ]
  },
  {
   "cell_type": "code",
   "execution_count": 142,
   "metadata": {
    "collapsed": true
   },
   "outputs": [],
   "source": [
    "# precision, recall, thresholds\n",
    "y, x, t = precision_recall_curve(y_test, y_sig.reshape([600, -1]))"
   ]
  },
  {
   "cell_type": "code",
   "execution_count": 144,
   "metadata": {
    "scrolled": false
   },
   "outputs": [
    {
     "data": {
      "image/png": "[encoded data removed]",
      "text/plain": [
       "<matplotlib.figure.Figure at 0x11b8e29e8>"
      ]
     },
     "metadata": {},
     "output_type": "display_data"
    }
   ],
   "source": [
    "plt.plot(x, y)\n",
    "plt.ylabel(\"precision\")\n",
    "plt.xlabel(\"recall\")\n",
    "plt.show()"
   ]
  },
  {
   "cell_type": "markdown",
   "metadata": {},
   "source": [
    "Практически идеальное соотношение точности и полноты предсказаний (1, 1). Почти всегда можем доверять классификатору при предсказании положительного класса (точность), доля найденных положительных ответов крайне высока (полнота)."
   ]
  },
  {
   "cell_type": "markdown",
   "metadata": {},
   "source": [
    "__Итог:__ Наш классификатор всех прекраснее на свете!"
   ]
  },
  {
   "cell_type": "code",
   "execution_count": null,
   "metadata": {
    "collapsed": true
   },
   "outputs": [],
   "source": []
  },
  {
   "cell_type": "markdown",
   "metadata": {},
   "source": [
    "### Бонусное задание. Обучение логистической регрессии.\n",
    "\n",
    "[2 бонусных балла]\n",
    "\n",
    "Если выше вручную мы только применяли логистическую регрессию, то здесь предлагается реализовать обучение с помощью полного градиентного спуска.\n",
    "\n",
    "Если кратко, то обучение логистической регрессии с $L_2$-регуляризацией можно записать следующим образом:\n",
    "\n",
    "$$\n",
    "Q(w, X) = \\frac{1}{l} \\sum_{i=1}^{l} \\log (1 + \\exp(- y_i \\langle w, x_i \\rangle )) + \\frac{\\lambda_2}{2} \\lVert w \\rVert _2^2 \\to \\min_w\n",
    "$$\n",
    "\n",
    "Считаем, что $y_i \\in \\{-1, +1\\}$, а нулевым признаком сделан единичный (то есть $w_0$ соответствует свободному члену). Искать $w$ будем с помощью градиентного спуска:\n",
    "\n",
    "$$\n",
    "w^{(k+1)} = w^{(k)} - \\alpha \\nabla_w Q(w, X)\n",
    "$$\n",
    "\n",
    "В случае полного градиентного спуска $\\nabla_w Q(w, X)$ считается напрямую (как есть, то есть, используя все объекты выборки). Длину шага $\\alpha > 0$ в рамках данного задания предлагается брать равной некоторой малой константе.\n",
    "\n",
    "Градиент по объекту $x_i$ считается по следующей формуле:\n",
    "\n",
    "$$\n",
    "\\nabla_w Q(w, x_i) = - \\frac{y_i x_i}{1 + \\exp(y_i \\langle w, x_i \\rangle)} + \\lambda_2 w\n",
    "$$\n",
    "\n",
    "На самом деле неправильно регуляризировать свободный член $w_0$ (то есть при добавлении градиента для $w_0$ не надо учитывать слагаемое с $\\lambda_2$). Но в рамках этого задания мы не обращаем на это внимания и работаем со всеми вектором весов одинаково. \n",
    "\n",
    "В качестве критерия останова необходимо использовать (одновременно):\n",
    "- проверку на евклидовую норму разности весов на двух соседних итерациях (например, меньше некоторого малого числа порядка $10^{-6}$) — параметр tolerance\n",
    "- достижение максимального числа итераций (например, 10000) — параметр max\\_iter.\n",
    "\n",
    "Инициализировать веса можно случайным образом или нулевым вектором.\n",
    "\n",
    "Реализуйте обучение логистической регрессии. Для удобства ниже предоставлен прототип с необходимыми методами. В `loss_history` необходимо сохранять вычисленное на каждой итерации значение функции потерь. "
   ]
  },
  {
   "cell_type": "code",
   "execution_count": 248,
   "metadata": {
    "collapsed": true
   },
   "outputs": [],
   "source": [
    "from sklearn.base import BaseEstimator\n",
    "from sklearn import preprocessing\n",
    "\n",
    "class LogReg(BaseEstimator):\n",
    "    def __init__(self, lambda_2 = 1.0, tolerance = 1e-4, max_iter = 1000, alpha = 1e-3):\n",
    "        \"\"\"\n",
    "        lambda_2: L2 regularization param\n",
    "        tolerance: for stopping gradient descent\n",
    "        max_iter: maximum number of steps in gradient descent\n",
    "        alpha: learning rate\n",
    "        \"\"\"\n",
    "        self.lambda_2 = lambda_2\n",
    "        self.tolerance = tolerance\n",
    "        self.max_iter = max_iter\n",
    "        self.alpha = alpha\n",
    "        self.w = None\n",
    "        self.loss_history = None\n",
    "    \n",
    "    def fit(self, X, y):\n",
    "        \"\"\"\n",
    "        X: np.array of shape (l, d)\n",
    "        y: np.array of shape (l)\n",
    "        ---\n",
    "        output: self\n",
    "        \"\"\"\n",
    "        self.loss_history = []\n",
    "        \n",
    "        y = np.array(y)\n",
    "        y[y == 0] = -1 # replace y to discrete values [-1; 1]\n",
    "        X = np.concatenate([np.ones(X.shape[0]).reshape([-1, 1]), X], axis = 1) # add ones as intercepts\n",
    "        X = preprocessing.scale(X) # standartization\n",
    "        \n",
    "        # initialize some very normal weights\n",
    "        self.w = np.random.normal(size = (X.shape[1], 1), scale = .01)\n",
    "        # or define zero weights \n",
    "        # self.w = np.zeros(X.shape[1])\n",
    "        \n",
    "        # loop\n",
    "        meme = 0\n",
    "        while meme <= self.max_iter:\n",
    "            meme += 1\n",
    "            old_weights = self.w\n",
    "            self.loss_history.append(self.calc_loss(X, y)) # append loss for old weights to history\n",
    "            self.w = (self.w.T - self.alpha * self.calc_gradient(X, y)).T # update weights\n",
    "            print(meme)\n",
    "            print(self.loss_history[-1])\n",
    "            if (self.loss_history[-1] - self.calc_loss(X, y) < self.tolerance): # old - new\n",
    "                self.w = old_weights\n",
    "                break\n",
    "                \n",
    "\n",
    "        #print(meme)\n",
    "        #print(self.w)\n",
    "        #print(old_weights)\n",
    "        #print(X)\n",
    "        return self\n",
    "    \n",
    "    def predict_proba(self, X):\n",
    "        \"\"\"\n",
    "        X: np.array of shape (l, d)\n",
    "        ---\n",
    "        output: np.array of shape (l, 2) where\n",
    "        first column has probabilities of -1\n",
    "        second column has probabilities of +1\n",
    "        \"\"\"\n",
    "        if self.w is None:\n",
    "            raise Exception('Not trained yet')\n",
    "\n",
    "        best_scores = X.dot(self.w) # scores shape (l, 1)\n",
    "        prob_plus = np.array(1 / (1 + np.exp(-best_scores))) # sigmoid to get propabilities [0,1]\n",
    "        \n",
    "        return np.concatenate([1 - prob_plus, prob_plus], axis = 1)\n",
    "    \n",
    "    def calc_gradient(self, X, y):\n",
    "        \"\"\"\n",
    "        X: np.array of shape (l, d) (l can be equal to 1 if stochastic)\n",
    "        y: np.array of shape (l)\n",
    "        ---\n",
    "        output: np.array of shape (d)\n",
    "        \"\"\"\n",
    "        # MINUS BEFORE GRADIENT\n",
    "        # add minus before exp?\n",
    "        gradient = -y.dot(X) / (1 + np.exp(y.dot((self.w * X.T).T))) + self.lambda_2 * self.w.T\n",
    "        return gradient\n",
    "\n",
    "        \n",
    "    def calc_loss(self, X, y):\n",
    "        \"\"\"\n",
    "        X: np.array of shape (l, d)\n",
    "        y: np.array of shape (l)\n",
    "        ---\n",
    "        output: float \n",
    "        \"\"\" \n",
    "        # w*X shape (l, 1)\n",
    "        # shape of weights (d, 1)\n",
    "        reg = self.lambda_2/2 * np.sum(abs(self.w)**2)\n",
    "        \n",
    "        loss = 1/len(y) * np.sum(np.log(1 + np.exp(-y*(X.dot(self.w))))) + reg\n",
    "        return loss"
   ]
  },
  {
   "cell_type": "code",
   "execution_count": 249,
   "metadata": {
    "collapsed": true
   },
   "outputs": [],
   "source": [
    "my_lr = LogReg()"
   ]
  },
  {
   "cell_type": "code",
   "execution_count": 250,
   "metadata": {},
   "outputs": [
    {
     "name": "stdout",
     "output_type": "stream",
     "text": [
      "1\n",
      "970.848791429\n"
     ]
    },
    {
     "data": {
      "text/plain": [
       "LogReg(alpha=0.001, lambda_2=1.0, max_iter=1000, tolerance=0.0001)"
      ]
     },
     "execution_count": 250,
     "metadata": {},
     "output_type": "execute_result"
    }
   ],
   "source": [
    "my_lr.fit(X_train, y_train)"
   ]
  },
  {
   "cell_type": "markdown",
   "metadata": {},
   "source": [
    "__Итог:__\n",
    "\n",
    "У меня не вышло, но я пыталась :(\n",
    "\n",
    "Там какая-то проблема с подсчетом градиента, как мне кажется. Разбивала код и прогоняла в отдельных ячейках, так и не смогла найти проблему. В каких-то случаях лосс становился крошечным, но я уже не помню, где так было, надо снова членить код.\n",
    "\n",
    "Еще кажется, после поисков в интернетах, что экспоненту внутри градиента нужно возводить в отрицательную степень. Но это не помогает..."
   ]
  },
  {
   "cell_type": "code",
   "execution_count": null,
   "metadata": {
    "collapsed": true
   },
   "outputs": [],
   "source": []
  },
  {
   "cell_type": "code",
   "execution_count": null,
   "metadata": {
    "collapsed": true
   },
   "outputs": [],
   "source": []
  },
  {
   "cell_type": "markdown",
   "metadata": {},
   "source": [
    "1. Примените логистическую регресиию на той же выборке.\n",
    "2. Посчитайте качество по тем же метрикам.\n",
    "3. Визуализируйте изменение значений функции потерь от номера итераций."
   ]
  },
  {
   "cell_type": "markdown",
   "metadata": {},
   "source": [
    "## Часть 2. Случайные леса.\n",
    "\n",
    "[6 баллов]\n",
    "\n",
    "Случайный лес — алгоритм машинного обучения, представляющий собой бэггинг над решающими деревьями (усреднение ответов множества слабых алгоритмов) с 2 основными идеями:\n",
    "- Использование подмножества признаков при построении каждого сплита дерева.\n",
    "- Бутстрап обучающей выборки для построения каждого дерева (с повторениями).\n",
    "\n",
    "В этом задании мы попробуем оценить пользу каждой из идей. Будем использовать ту же выборку с тем же разбиением на 2 части. Для начала обучите решающее дерево `DecisionTreeClassifier` из scikit-learn и посчитайте ROC-AUC и Accuracy (порог 0.5). Не забудьте зафикиксировать сид для построения дерева (несмотря на то, что в классической реализации никакой случайности нет, при большой глубине дерева может возникать неоднозначность в выборке признака в сплите). Используйте этот сид для всех заданий ниже."
   ]
  },
  {
   "cell_type": "code",
   "execution_count": 9,
   "metadata": {
    "collapsed": true
   },
   "outputs": [],
   "source": [
    "from sklearn.tree import DecisionTreeClassifier\n",
    "from sklearn.model_selection import GridSearchCV"
   ]
  },
  {
   "cell_type": "code",
   "execution_count": 20,
   "metadata": {},
   "outputs": [
    {
     "data": {
      "text/plain": [
       "{'criterion': 'entropy'}"
      ]
     },
     "execution_count": 20,
     "metadata": {},
     "output_type": "execute_result"
    }
   ],
   "source": [
    "### ╰( ͡° ͜ʖ ͡° )つ──☆*:・ﾟ\n",
    "tree = DecisionTreeClassifier()\n",
    "tree_grid = GridSearchCV(estimator=tree, param_grid = {'criterion': ['gini', 'entropy']})\n",
    "tree_grid.fit(X_train, y_train)\n",
    "\n",
    "tree_grid.best_params_"
   ]
  },
  {
   "cell_type": "code",
   "execution_count": 21,
   "metadata": {
    "collapsed": true
   },
   "outputs": [],
   "source": [
    "tree = DecisionTreeClassifier(criterion = 'entropy', random_state = 123)\n",
    "tree.fit(X_train, y_train)\n",
    "\n",
    "y_pred_tree = tree.predict(X_test)"
   ]
  },
  {
   "cell_type": "code",
   "execution_count": 22,
   "metadata": {
    "scrolled": false
   },
   "outputs": [
    {
     "data": {
      "text/plain": [
       "array([1, 0, 0, 1, 0, 0, 1, 1, 0, 0, 0, 1, 0, 0, 1, 1, 1, 0, 0, 0, 1, 0, 0,\n",
       "       0, 0, 0, 0, 1, 0, 1, 0, 0, 1, 1, 0, 0, 1, 1, 0, 1, 0, 0, 0, 0, 0, 1,\n",
       "       1, 1, 1, 1, 0, 0, 1, 1, 0, 1, 1, 1, 0, 1, 0, 0, 0, 0, 1, 1, 0, 0, 0,\n",
       "       1, 1, 1, 0, 0, 1, 1, 0, 0, 0, 0, 1, 1, 0, 1, 0, 0, 1, 1, 0, 0, 0, 1,\n",
       "       0, 0, 1, 1, 1, 0, 0, 0, 1, 1, 1, 0, 0, 1, 0, 0, 0, 1, 0, 1, 0, 1, 0,\n",
       "       0, 0, 1, 0, 1, 0, 1, 1, 0, 0, 0, 0, 0, 1, 1, 0, 0, 0, 1, 0, 1, 1, 0,\n",
       "       1, 1, 1, 0, 1, 0, 1, 1, 0, 1, 0, 0, 1, 1, 0, 0, 1, 1, 0, 0, 0, 0, 1,\n",
       "       1, 0, 0, 1, 0, 0, 1, 1, 0, 1, 1, 1, 1, 1, 1, 0, 1, 1, 1, 0, 1, 1, 0,\n",
       "       0, 0, 0, 1, 1, 0, 1, 1, 1, 1, 1, 0, 0, 1, 0, 0, 1, 1, 1, 0, 0, 1, 0,\n",
       "       0, 1, 1, 0, 0, 1, 0, 1, 0, 0, 1, 1, 1, 0, 1, 1, 0, 0, 0, 0, 1, 0, 1,\n",
       "       1, 1, 0, 0, 1, 0, 0, 1, 0, 0, 1, 1, 0, 1, 1, 0, 0, 0, 1, 1, 1, 0, 1,\n",
       "       1, 0, 1, 1, 1, 1, 1, 1, 1, 0, 0, 0, 0, 1, 0, 1, 1, 0, 1, 1, 1, 0, 1,\n",
       "       0, 1, 0, 0, 0, 1, 1, 0, 1, 1, 1, 0, 0, 0, 0, 0, 0, 0, 1, 1, 1, 0, 0,\n",
       "       0, 1, 0, 0, 1, 0, 0, 1, 0, 0, 1, 0, 1, 0, 0, 0, 0, 1, 1, 0, 1, 1, 0,\n",
       "       0, 0, 1, 1, 0, 1, 1, 1, 1, 0, 1, 1, 1, 0, 0, 0, 0, 0, 0, 1, 0, 0, 1,\n",
       "       0, 0, 0, 1, 1, 1, 1, 1, 0, 1, 1, 0, 1, 1, 1, 0, 0, 0, 0, 0, 1, 0, 1,\n",
       "       0, 0, 1, 0, 1, 0, 0, 0, 1, 0, 0, 0, 0, 1, 1, 1, 0, 1, 1, 0, 0, 1, 1,\n",
       "       1, 0, 1, 1, 0, 1, 0, 0, 0, 0, 1, 1, 1, 0, 0, 1, 0, 0, 0, 0, 0, 0, 1,\n",
       "       1, 0, 0, 1, 1, 0, 0, 1, 1, 0, 1, 1, 0, 1, 0, 0, 1, 1, 1, 1, 1, 0, 0,\n",
       "       1, 1, 0, 0, 0, 1, 0, 1, 0, 0, 0, 1, 1, 0, 0, 0, 1, 0, 1, 1, 0, 0, 1,\n",
       "       0, 1, 0, 0, 1, 0, 1, 0, 1, 0, 0, 0, 1, 0, 0, 1, 0, 1, 0, 0, 0, 0, 0,\n",
       "       0, 0, 1, 0, 1, 1, 0, 0, 1, 1, 1, 0, 1, 1, 1, 1, 1, 0, 0, 1, 1, 1, 1,\n",
       "       0, 0, 1, 0, 1, 1, 1, 0, 0, 1, 1, 1, 1, 0, 1, 0, 1, 1, 1, 1, 1, 0, 1,\n",
       "       1, 1, 1, 1, 1, 1, 0, 0, 0, 0, 1, 0, 0, 1, 1, 0, 1, 1, 0, 0, 1, 0, 0,\n",
       "       0, 1, 0, 0, 0, 1, 1, 1, 1, 1, 0, 1, 0, 0, 1, 0, 0, 1, 0, 0, 0, 0, 1,\n",
       "       0, 0, 0, 1, 0, 1, 0, 0, 0, 0, 1, 0, 0, 1, 0, 1, 1, 1, 0, 1, 0, 0, 1,\n",
       "       0, 0])"
      ]
     },
     "execution_count": 22,
     "metadata": {},
     "output_type": "execute_result"
    }
   ],
   "source": [
    "y_pred_tree"
   ]
  },
  {
   "cell_type": "code",
   "execution_count": 23,
   "metadata": {},
   "outputs": [
    {
     "data": {
      "text/plain": [
       "0.94845337849884115"
      ]
     },
     "execution_count": 23,
     "metadata": {},
     "output_type": "execute_result"
    }
   ],
   "source": [
    "# roc-auc\n",
    "roc_auc_score(y_test, y_pred_tree)"
   ]
  },
  {
   "cell_type": "code",
   "execution_count": 24,
   "metadata": {},
   "outputs": [
    {
     "data": {
      "text/plain": [
       "0.94833333333333336"
      ]
     },
     "execution_count": 24,
     "metadata": {},
     "output_type": "execute_result"
    }
   ],
   "source": [
    "# accuracy\n",
    "accuracy_score(y_test, y_pred_tree)"
   ]
  },
  {
   "cell_type": "markdown",
   "metadata": {},
   "source": [
    "Метрики для дерева чуть хуже, чем для логита."
   ]
  },
  {
   "cell_type": "markdown",
   "metadata": {},
   "source": [
    "### 2.1 Бэггинг классификаторов\n",
    "\n",
    "Реализуйте бэггинг над решающими деревьями (усреднение предсказанных вероятностей всего ансамбля). \n",
    "В качестве основы используйте всё тот же `DecisionTreeClassifier`. Количество базовых алгоритмов предлагается брать равным 100. \n",
    "\n",
    "Посчитайте качество с помощью тех же метрик. Ответьте на следующие вопросы:\n",
    "- Что интересного вы видите?\n",
    "- С чем это связано?"
   ]
  },
  {
   "cell_type": "code",
   "execution_count": 50,
   "metadata": {
    "collapsed": true
   },
   "outputs": [],
   "source": [
    "### ╰( ͡° ͜ʖ ͡° )つ──☆*:・ﾟ\n",
    "from sklearn.ensemble import BaggingClassifier"
   ]
  },
  {
   "cell_type": "code",
   "execution_count": 51,
   "metadata": {
    "collapsed": true
   },
   "outputs": [],
   "source": [
    "tree = DecisionTreeClassifier(criterion = 'entropy', random_state = 123)"
   ]
  },
  {
   "cell_type": "code",
   "execution_count": 52,
   "metadata": {
    "collapsed": true
   },
   "outputs": [],
   "source": [
    "bag = BaggingClassifier(base_estimator = tree, bootstrap = False, n_estimators = 100, random_state = 123)\n",
    "\n",
    "bag.fit(X_train, y_train)\n",
    "y_pred_bag = bag.predict(X_test)"
   ]
  },
  {
   "cell_type": "code",
   "execution_count": 53,
   "metadata": {},
   "outputs": [
    {
     "data": {
      "text/plain": [
       "0.94827509359957207"
      ]
     },
     "execution_count": 53,
     "metadata": {},
     "output_type": "execute_result"
    }
   ],
   "source": [
    "# roc-auc\n",
    "roc_auc_score(y_test, y_pred_bag)"
   ]
  },
  {
   "cell_type": "code",
   "execution_count": 54,
   "metadata": {},
   "outputs": [
    {
     "data": {
      "text/plain": [
       "0.94833333333333336"
      ]
     },
     "execution_count": 54,
     "metadata": {},
     "output_type": "execute_result"
    }
   ],
   "source": [
    "# accuracy\n",
    "accuracy_score(y_test, y_pred_bag)"
   ]
  },
  {
   "cell_type": "markdown",
   "metadata": {},
   "source": [
    "Метрики особо не изменились, на очень малое число уменьшился roc-auc. Скорее всего это связано с тем, что здесь мы осуществляем беггинг над параметрами, не рандомизируя сами деревья. В таком случае агрегиррованные предикторы, полученые с помощью беггинга, могут действительно понижать разброс предсказаний от разных алгоритмов (=деревьев с разными параметрами), повышая точность предсказаний (accuracy не изменилась по сранению с обычным решающим деревом, обученным выше). \n",
    "\n",
    "Но поскольку сам процесс выбора итогового алгоритма не случайный и зависит только от показателей качества деревьев на training data, есть шанс переобучения -- после нерандомизированного беггинга roc-auc немного понизился. "
   ]
  },
  {
   "cell_type": "markdown",
   "metadata": {},
   "source": [
    "### 2.2 Сэмплирование обучающей выборки"
   ]
  },
  {
   "cell_type": "markdown",
   "metadata": {},
   "source": [
    "Добавим к нашему бэггингу бутстрап выборки (генерация случайной выборки того же размера с возвращением). Для этого может пригодиться `numpy.random.randint`.\n",
    "\n",
    "Посчитайте качество. Что вы видите?"
   ]
  },
  {
   "cell_type": "code",
   "execution_count": 204,
   "metadata": {
    "collapsed": true
   },
   "outputs": [],
   "source": [
    "np.random.seed(123)  # для одинакового бутстрапа в каждом запуске\n",
    "\n",
    "### ╰( ͡° ͜ʖ ͡° )つ──☆*:・ﾟ\n",
    "rand_bag = BaggingClassifier(base_estimator = tree, bootstrap = True, n_estimators = 100, random_state = 123)\n",
    "\n",
    "rand_bag.fit(X_train, y_train)\n",
    "y_pred_rand_bag = rand_bag.predict(X_test)"
   ]
  },
  {
   "cell_type": "code",
   "execution_count": 205,
   "metadata": {},
   "outputs": [
    {
     "data": {
      "text/plain": [
       "0.96305045462649319"
      ]
     },
     "execution_count": 205,
     "metadata": {},
     "output_type": "execute_result"
    }
   ],
   "source": [
    "# roc-auc\n",
    "roc_auc_score(y_test, y_pred_rand_bag)"
   ]
  },
  {
   "cell_type": "code",
   "execution_count": 206,
   "metadata": {},
   "outputs": [
    {
     "data": {
      "text/plain": [
       "0.96333333333333337"
      ]
     },
     "execution_count": 206,
     "metadata": {},
     "output_type": "execute_result"
    }
   ],
   "source": [
    "# accuracy\n",
    "accuracy_score(y_test, y_pred_rand_bag)"
   ]
  },
  {
   "cell_type": "markdown",
   "metadata": {
    "collapsed": true
   },
   "source": [
    "Обе метрики сильно улучшились и по сравнению с обычным решающим деревом, и по сравнению с нерандомизированным беггингом. Бутстрап обладает замечательным свойством -- борьбой с переобучением, что и помогло получить более робастные, качественные оценки при проверке качества алгоритма на тестовой выборке. \n",
    "\n",
    "Семплируя выборки, на которых происходит обучение деревьев, мы с большей вероятностью получаем выборки с разными распределениями. В таком случае у алгоритма нет возможности \"подстроиться\" под данные, и он будет устойчив на тренировочном сете. "
   ]
  },
  {
   "cell_type": "markdown",
   "metadata": {},
   "source": [
    "### 2.3 Выбор случайного подмножества признаков"
   ]
  },
  {
   "cell_type": "markdown",
   "metadata": {},
   "source": [
    "Временно забудем о бутстрапе выборки и добавим выбор случайного подмножества признаков при построении каждого сплита. В `DecisionTreeClassifier` за это отвечает параметр `max_features`. По умолчанию он имеет значение `None`, что обозначает использование всех возможных признаков. Для задачи классификации рекоменуется использовать квадратный корень от количества признаков. Попробуйте выставить такое значение. На этот раз надо отключить фиксированный сид в построении дерева, так как иначе каждый раз мы будем выбирать одинаковые подмножества признаков. \n",
    "\n",
    "Посчитайте качество. Что вы видите?"
   ]
  },
  {
   "cell_type": "code",
   "execution_count": 131,
   "metadata": {},
   "outputs": [],
   "source": [
    "np.random.seed(123)  # для воспроизводимости построения случайных подмножеств признаков\n",
    "\n",
    "### ╰( ͡° ͜ʖ ͡° )つ──☆*:・ﾟ\n",
    "tree = DecisionTreeClassifier(criterion = 'entropy', max_features = int(round(sqrt(X_train.shape[1]))))\n",
    "tree.fit(X_train, y_train)\n",
    "\n",
    "y_pred_tree2 = tree.predict(X_test)"
   ]
  },
  {
   "cell_type": "code",
   "execution_count": 132,
   "metadata": {},
   "outputs": [
    {
     "data": {
      "text/plain": [
       "0.88846050989481196"
      ]
     },
     "execution_count": 132,
     "metadata": {},
     "output_type": "execute_result"
    }
   ],
   "source": [
    "roc_auc_score(y_test, y_pred_tree2)"
   ]
  },
  {
   "cell_type": "code",
   "execution_count": 133,
   "metadata": {},
   "outputs": [
    {
     "data": {
      "text/plain": [
       "0.88833333333333331"
      ]
     },
     "execution_count": 133,
     "metadata": {},
     "output_type": "execute_result"
    }
   ],
   "source": [
    "accuracy_score(y_test, y_pred_tree2)"
   ]
  },
  {
   "cell_type": "markdown",
   "metadata": {},
   "source": [
    "Качество сильно ухудшилось по сравнению с обычным решающим деревом, нерандомизированным и рандомизированным беггингом. "
   ]
  },
  {
   "cell_type": "markdown",
   "metadata": {},
   "source": [
    "### 2.4 = 2.2 + 2.3\n",
    "\n",
    "Объединим два подхода (бутстрап + выбор подмножества признаков). Получим случайный лес.\n",
    "\n",
    "Посчитайте качество. Что вы видите?"
   ]
  },
  {
   "cell_type": "code",
   "execution_count": 114,
   "metadata": {
    "collapsed": true
   },
   "outputs": [],
   "source": [
    "np.random.seed(123)  # для одинакового бутстрапа и выбора подмножеств признаков в каждом запуске\n",
    "\n",
    "### ╰( ͡° ͜ʖ ͡° )つ──☆*:・ﾟ\n",
    "tree = DecisionTreeClassifier(criterion='entropy', max_features = int(round(sqrt(X_train.shape[1]))))\n",
    "tree24 = BaggingClassifier(base_estimator = tree, bootstrap = True, n_estimators = 100, random_state = 123)"
   ]
  },
  {
   "cell_type": "code",
   "execution_count": 115,
   "metadata": {
    "collapsed": true
   },
   "outputs": [],
   "source": [
    "tree24.fit(X_train, y_train)\n",
    "y_pred24 = tree24.predict(X_test)"
   ]
  },
  {
   "cell_type": "code",
   "execution_count": 116,
   "metadata": {},
   "outputs": [
    {
     "data": {
      "text/plain": [
       "0.96305045462649319"
      ]
     },
     "execution_count": 116,
     "metadata": {},
     "output_type": "execute_result"
    }
   ],
   "source": [
    "roc_auc_score(y_test, y_pred24)"
   ]
  },
  {
   "cell_type": "code",
   "execution_count": 117,
   "metadata": {},
   "outputs": [
    {
     "data": {
      "text/plain": [
       "0.96333333333333337"
      ]
     },
     "execution_count": 117,
     "metadata": {},
     "output_type": "execute_result"
    }
   ],
   "source": [
    "accuracy_score(y_test, y_pred24)"
   ]
  },
  {
   "cell_type": "markdown",
   "metadata": {},
   "source": [
    "Метрики вернулись к состоянию, в котором пребывали на пункте беггинга с бутстрапом. Вывод -- случайное подмножество признаков является недостаточным \"уровнем\" рандомизации. Беггинг и бутстрап наше все. "
   ]
  },
  {
   "cell_type": "markdown",
   "metadata": {},
   "source": [
    "То, что мы сделали уже реализовано в `RandomForestClassifier`. Попробуйте воспользоваться им. Количество используемых деревьев передаётся в параметре `n_estimators`.\n",
    "\n",
    "Посчитайте качество. Что вы видите?"
   ]
  },
  {
   "cell_type": "code",
   "execution_count": 92,
   "metadata": {},
   "outputs": [],
   "source": [
    "### ╰( ͡° ͜ʖ ͡° )つ──☆*:・ﾟ\n",
    "from sklearn.ensemble import RandomForestClassifier"
   ]
  },
  {
   "cell_type": "code",
   "execution_count": 122,
   "metadata": {
    "collapsed": true
   },
   "outputs": [],
   "source": [
    "np.random.seed(123)\n",
    "rf = RandomForestClassifier(n_estimators=100, criterion='entropy')\n",
    "\n",
    "rf.fit(X_train, y_train)\n",
    "y_pred_rf = rf.predict(X_test)"
   ]
  },
  {
   "cell_type": "code",
   "execution_count": 123,
   "metadata": {},
   "outputs": [
    {
     "data": {
      "text/plain": [
       "0.97149670172936342"
      ]
     },
     "execution_count": 123,
     "metadata": {},
     "output_type": "execute_result"
    }
   ],
   "source": [
    "roc_auc_score(y_test, y_pred_rf)"
   ]
  },
  {
   "cell_type": "code",
   "execution_count": 124,
   "metadata": {},
   "outputs": [
    {
     "data": {
      "text/plain": [
       "0.97166666666666668"
      ]
     },
     "execution_count": 124,
     "metadata": {},
     "output_type": "execute_result"
    }
   ],
   "source": [
    "accuracy_score(y_test, y_pred_rf)"
   ]
  },
  {
   "cell_type": "markdown",
   "metadata": {},
   "source": [
    "Метрики значительно улучшились и чуть выше тех, которые мы получили на шаге 2.4. Видимо, это связано с тем, что `RandomForestClassifier` по дефолту использует более оптимальные гиперпараметры для обучения."
   ]
  },
  {
   "cell_type": "markdown",
   "metadata": {},
   "source": [
    "### 2.5 Влияние количества используемых деревьев в случайном лесе\n",
    "\n",
    "Один из параметров случайного леса — количество деревьев, используемых в бэггинге. Оценим, как влияет этот параметр на финальное качество. Для этого обучите случайные леса с разным количество деревьев (например, перебирайте от 10 до 1000 с шагом в 10), оцените качество с помощью ROC-AUC. Постройте график зависимости ROC-AUC от количества используемых деревьев. Что вы видите?"
   ]
  },
  {
   "cell_type": "code",
   "execution_count": 188,
   "metadata": {},
   "outputs": [],
   "source": [
    "### ╰( ͡° ͜ʖ ͡° )つ──☆*:・ﾟ\n",
    "rf = RandomForestClassifier(criterion='entropy')\n",
    "# gridsearch CV for hyperpar\n",
    "rf_grid = GridSearchCV(estimator=rf, scoring='roc_auc', param_grid = {'n_estimators': np.arange(10, 1010, 10)})"
   ]
  },
  {
   "cell_type": "code",
   "execution_count": 189,
   "metadata": {},
   "outputs": [
    {
     "data": {
      "text/plain": [
       "{'n_estimators': 980}"
      ]
     },
     "execution_count": 189,
     "metadata": {},
     "output_type": "execute_result"
    }
   ],
   "source": [
    "rf_grid.fit(X_train, y_train)\n",
    "\n",
    "rf_grid.best_params_"
   ]
  },
  {
   "cell_type": "code",
   "execution_count": 190,
   "metadata": {
    "collapsed": true
   },
   "outputs": [],
   "source": [
    "import warnings\n",
    "warnings.filterwarnings(\"ignore\")"
   ]
  },
  {
   "cell_type": "code",
   "execution_count": 191,
   "metadata": {},
   "outputs": [],
   "source": [
    "# Extracting quality metrics from GridSearch\n",
    "# creating a dictionary with roc-auc values as values\n",
    "# and RandomForestClassifier's hyperparameters as keys\n",
    "\n",
    "results = {}\n",
    "for i in range(0, len(rf_grid.grid_scores_)):\n",
    "    results[rf_grid.grid_scores_[i][0]['n_estimators']] = rf_grid.grid_scores_[i][1]"
   ]
  },
  {
   "cell_type": "code",
   "execution_count": 198,
   "metadata": {},
   "outputs": [],
   "source": [
    "# n_estimators\n",
    "x = list(results.keys())"
   ]
  },
  {
   "cell_type": "code",
   "execution_count": 199,
   "metadata": {},
   "outputs": [],
   "source": [
    "# ROC-AUC values\n",
    "y = list(results.values())"
   ]
  },
  {
   "cell_type": "code",
   "execution_count": 200,
   "metadata": {
    "scrolled": true
   },
   "outputs": [
    {
     "data": {
      "image/png": "[encoded data removed]",
      "text/plain": [
       "<matplotlib.figure.Figure at 0x11064b048>"
      ]
     },
     "metadata": {},
     "output_type": "display_data"
    }
   ],
   "source": [
    "plt.title('ROC-AUC values depending on the number of trees')\n",
    "plt.plot(x, y)\n",
    "xlabel('# trees')\n",
    "ylabel('ROC-AUC')\n",
    "plt.show()"
   ]
  },
  {
   "cell_type": "markdown",
   "metadata": {},
   "source": [
    "ROC-AUC приближается к heaven после количества деревьев, используемых в беггинге, $\\approx 80$. Как показал `GridSearch`, 980 деревьев для беггинга дают наилуший результат. Большее количество деревьев в \"лесу\" дает возможность хорошей рандомизации и предотвращает переобучение. "
   ]
  },
  {
   "cell_type": "code",
   "execution_count": 201,
   "metadata": {
    "collapsed": true
   },
   "outputs": [],
   "source": [
    "rf = RandomForestClassifier(criterion='entropy', n_estimators=980)\n",
    "\n",
    "rf.fit(X_train, y_train)\n",
    "y_pred_best = rf.predict(X_test)"
   ]
  },
  {
   "cell_type": "code",
   "execution_count": 202,
   "metadata": {},
   "outputs": [
    {
     "data": {
      "text/plain": [
       "0.97149670172936342"
      ]
     },
     "execution_count": 202,
     "metadata": {},
     "output_type": "execute_result"
    }
   ],
   "source": [
    "roc_auc_score(y_test, y_pred_rf)"
   ]
  },
  {
   "cell_type": "code",
   "execution_count": 203,
   "metadata": {},
   "outputs": [
    {
     "data": {
      "text/plain": [
       "0.97166666666666668"
      ]
     },
     "execution_count": 203,
     "metadata": {},
     "output_type": "execute_result"
    }
   ],
   "source": [
    "accuracy_score(y_test, y_pred_rf)"
   ]
  },
  {
   "cell_type": "markdown",
   "metadata": {},
   "source": [
    "Достигли рая. В целом наши метрики не отличаются от тех, которые мы получили с `RandomForestClassifier` без указания гиперпараметра с количеством деревьев для беггинга. Видимо, это связано с тем, что в целом Random Forest, благодаря разным способам рандомизации и усреднению ответов, благодаря работе с разнообразными деревьями, находит оптимальные гиперпараметры ансамбля. \n",
    "\n",
    "Random Forest ищет лучшие параметры среди всех рандомно выбранных выборок параметров деревьев, и у него получается хорошо предсказывать!"
   ]
  },
  {
   "cell_type": "markdown",
   "metadata": {},
   "source": [
    "### 2.6 Важность признаков\n",
    "\n",
    "Случайный лес позволяет оценить важность признаков. У обученного случайного леса есть аттрибут `feature_importances_`, где храниться важность для каждого признака. Постройте `barplot` с важностью признаков (удобно использовать библиотеку `seaborn`, где можно для каждого столбца передать название признака `train.columns`)."
   ]
  },
  {
   "cell_type": "code",
   "execution_count": 236,
   "metadata": {},
   "outputs": [],
   "source": [
    "import seaborn as sns"
   ]
  },
  {
   "cell_type": "code",
   "execution_count": 212,
   "metadata": {},
   "outputs": [],
   "source": [
    "### ╰( ͡° ͜ʖ ͡° )つ──☆*:・ﾟ\n",
    "importances = rf.feature_importances_\n",
    "features = X_train.columns.values"
   ]
  },
  {
   "cell_type": "code",
   "execution_count": 247,
   "metadata": {
    "scrolled": false
   },
   "outputs": [
    {
     "data": {
      "text/plain": [
       "<matplotlib.axes._subplots.AxesSubplot at 0x110a62f28>"
      ]
     },
     "execution_count": 247,
     "metadata": {},
     "output_type": "execute_result"
    },
    {
     "data": {
      "image/png": "[encoded data removed]",
      "text/plain": [
       "<matplotlib.figure.Figure at 0x110a62f98>"
      ]
     },
     "metadata": {},
     "output_type": "display_data"
    }
   ],
   "source": [
    "sns.barplot(y = features, x = importances)"
   ]
  },
  {
   "cell_type": "markdown",
   "metadata": {},
   "source": [
    "Well, самый важный признак -- Random Access Memory in Megabytes. Второй по важности -- battery power."
   ]
  },
  {
   "cell_type": "markdown",
   "metadata": {},
   "source": [
    "## Выводы\n",
    "\n",
    "Напишите, что интересного вы узнали в этой работе, в каких экспериментах какие результаты получились.\n",
    "\n",
    "1) __По логиту__:\n",
    "- Логит используется в случае, если отклик имеет бинарную или категориальную природу.\n",
    "- Может быть использован как для регрессии, так и для классификации. \n",
    "- Логистическая функция (=сигмоида) имеет S-образную shape, определенную на отрезке [0, 1], что позволяет не только разделять данные на классы, но и описывать присвоение к классу в вероятностных значениях. Коэффициенты подбираются так же, как и в линейных регрессиях, -- с помощью MLE. Оболочка сигмоиды обязательна, если мы хотим получить в итоге предсказания (принадлежности к классу в задаче на классификацию). \n",
    "- Для логита можем вполне использовать регуляризацию, чтобы бороться с переобучнием и повышать качество алгоритма. \n",
    "- Поскольку сигмоида -- гладкая функция, с ней хорошо работают алгоритмы обучения, основанные на градиентном спуске. Но (при обучении нейроннных сеток с back propogation) может возникнуть проблема исчезающего градиента, когда значения градиенты настолько малы, что веса не обновляются, процесс обучения не происходит. \n",
    "- Минус: сложно писать класс, реализующий логит с полным градиентном спуском и не запутаться :)\n",
    "\n",
    "2) __По Random Forest__:\n",
    "- Важные преимущества случайного леса: 1) работа с категориальными переменными, 2) обучение как классификатора, так и регрессии. \n",
    "- Random Forest случайно генерит количество наблюдений и параметры, на которых обучаются решающие деревья. Затем усредняет их ответы. Это помогает эффективно бороться с переобучением и получать отлиные показатели качества. Random Forest большой молодец!\n",
    "- Проблема случайного леса: если `n_estimators` слишком большое, лес долго обучается (технически затратен).\n",
    "- Гораздо мощнее по сравнению с обычным решающим деревом. Даже без поиска оптимального гиперпараметра с GridSearch, с дефолтными гиперпараметрами случайного леса можно получить очень точные предсказания и высокие показатели качество алгоритма случайного леса. \n",
    "\n",
    "И с помощью логита, и с помощью случайного леса мы итого достигли примерно одинакового качества алгоритмов: 0.97 и для accuracy, и для roc-auc."
   ]
  }
 ],
 "metadata": {
  "kernelspec": {
   "display_name": "Python 3",
   "language": "python",
   "name": "python3"
  },
  "language_info": {
   "codemirror_mode": {
    "name": "ipython",
    "version": 3
   },
   "file_extension": ".py",
   "mimetype": "text/x-python",
   "name": "python",
   "nbconvert_exporter": "python",
   "pygments_lexer": "ipython3",
   "version": "3.6.5"
  }
 },
 "nbformat": 4,
 "nbformat_minor": 2
}
